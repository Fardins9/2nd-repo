{
  "nbformat": 4,
  "nbformat_minor": 0,
  "metadata": {
    "colab": {
      "name": "TP.ipynb",
      "provenance": [],
      "authorship_tag": "ABX9TyPD3TxyL+hTNF/4QuHqLpqI",
      "include_colab_link": true
    },
    "kernelspec": {
      "name": "python3",
      "display_name": "Python 3"
    },
    "language_info": {
      "name": "python"
    }
  },
  "cells": [
    {
      "cell_type": "markdown",
      "metadata": {
        "id": "view-in-github",
        "colab_type": "text"
      },
      "source": [
        "<a href=\"https://colab.research.google.com/github/Fardins9/2nd-repo/blob/main/TP.ipynb\" target=\"_parent\"><img src=\"https://colab.research.google.com/assets/colab-badge.svg\" alt=\"Open In Colab\"/></a>"
      ]
    },
    {
      "cell_type": "code",
      "metadata": {
        "id": "goua3HRA7InY"
      },
      "source": [
        ""
      ],
      "execution_count": null,
      "outputs": []
    },
    {
      "cell_type": "code",
      "metadata": {
        "colab": {
          "base_uri": "https://localhost:8080/"
        },
        "id": "f5bHzn3Dtkh6",
        "outputId": "63b9ae9a-b548-4052-c375-1bb6cbbac133"
      },
      "source": [
        "'''\n",
        "def miniMaxSum(arr):\n",
        "  minimum=0\n",
        "  maximum=99999999\n",
        "  for ele in arr:\n",
        "    if (sum(arr)-ele)>minimum:\n",
        "      minimum=(sum(arr)-ele)\n",
        "    if (sum(arr)-ele)<maximum:\n",
        "      maximum=(sum(arr)-ele)\n",
        "  print(maximum,minimum)\n",
        "  '''\n",
        "#Just single line ;) code\n",
        "def miniMaxSum(arr):\n",
        "    print((sum(arr)-max(arr)),(sum(arr)-min(arr)))\n",
        "\n",
        "arr=[1,2,3,4,5]\n",
        "print(max(arr),min(arr))\n",
        "miniMaxSum(arr)"
      ],
      "execution_count": null,
      "outputs": [
        {
          "output_type": "stream",
          "name": "stdout",
          "text": [
            "5 1\n",
            "10 14\n"
          ]
        }
      ]
    },
    {
      "cell_type": "code",
      "metadata": {
        "colab": {
          "base_uri": "https://localhost:8080/"
        },
        "id": "6Q7r8nAwvIFU",
        "outputId": "3b01acc9-2b29-4760-e7fd-a3fa81867b35"
      },
      "source": [
        "arr=[1,2,3,4,5]\n",
        "print(sum(arr))"
      ],
      "execution_count": null,
      "outputs": [
        {
          "output_type": "stream",
          "name": "stdout",
          "text": [
            "21\n"
          ]
        }
      ]
    },
    {
      "cell_type": "code",
      "metadata": {
        "colab": {
          "base_uri": "https://localhost:8080/"
        },
        "id": "P1wEhZQ8S0JF",
        "outputId": "ac7955bc-3c91-4924-ed11-5be13df9014c"
      },
      "source": [
        "def staircase(n):\n",
        "    # Write your code here\n",
        "    i=1\n",
        "    j=n-1\n",
        "    while i<=n and j>=0:\n",
        "        if j==0:\n",
        "            print(\"#\"*i)\n",
        "        else:\n",
        "            print(\" \"*(j-1),\"#\"*i)\n",
        "        i+=1\n",
        "        j-=1\n",
        "\n",
        "staircase(6)"
      ],
      "execution_count": null,
      "outputs": [
        {
          "output_type": "stream",
          "name": "stdout",
          "text": [
            "     #\n",
            "    ##\n",
            "   ###\n",
            "  ####\n",
            " #####\n",
            "######\n"
          ]
        }
      ]
    },
    {
      "cell_type": "code",
      "metadata": {
        "id": "qi_zxjJYSRyT"
      },
      "source": [
        "def plusMinus(arr):\n",
        "    # Write your code here\n",
        "    zer,pos,neg=0,0,0\n",
        "    for i in arr:\n",
        "        if i==0:\n",
        "            zer+=1\n",
        "        elif i>0:\n",
        "            pos+=1\n",
        "        else:\n",
        "            neg+=1\n",
        "    print(round((pos/len(arr)),6))\n",
        "    print(round((neg/len(arr)),6))\n",
        "    print(round((zer/len(arr)),6))\n",
        "arr=[-4, 3, -9, 0, 4, 1]\n",
        "plusMinus(arr)"
      ],
      "execution_count": null,
      "outputs": []
    },
    {
      "cell_type": "code",
      "metadata": {
        "id": "rCs3385Crbeb"
      },
      "source": [
        "def diagonalDifference(arr):\n",
        "    # Write your code here\n",
        "    left,right,i,j,l=0,0,0,len(arr)-1,0\n",
        "    while i<len(arr):\n",
        "        left += arr[i][i]\n",
        "        i+=1\n",
        "    while j>=0 and l<len(arr):\n",
        "        right+=arr[l][j]\n",
        "        l+=1\n",
        "        j-=1\n",
        "    return abs(left-right)\n",
        "        \n",
        "\n",
        "arr=[[11, 2, 4],\n",
        "      [4, 5, 6],\n",
        "    [10, 8, -12]]\n",
        "\n",
        "print(diagonalDifference(arr))"
      ],
      "execution_count": null,
      "outputs": []
    },
    {
      "cell_type": "code",
      "metadata": {
        "id": "5AFjnxTUCzyh"
      },
      "source": [
        "def gridChallenge(grid):\n",
        "    # Write your code here\n",
        "    b=0\n",
        "    for i in range(len(grid)-1):\n",
        "        if ord(grid[i:i+1])>ord(grid[i+1:i+2]):\n",
        "            b=1\n",
        "            return \"No\"\n",
        "        else:\n",
        "            for j in range(len(grid(i)-1)):\n",
        "                if ord(grid[i][j])>ord(grid[i][j+1]):\n",
        "                    b=1\n",
        "                    return \"No\"\n",
        "    if b==0:\n",
        "        return \"Yes\"\n",
        "  "
      ],
      "execution_count": null,
      "outputs": []
    },
    {
      "cell_type": "code",
      "metadata": {
        "id": "5S8FgCJQOu08"
      },
      "source": [
        "def caesarCipher(s, k):\n",
        "    # Write your code here\n",
        "    b=\"\"\n",
        "    for char in s:\n",
        "      #o=ord(i)\n",
        "      if 64<ord(char)<91 or 96<ord(char)<123:\n",
        "        if (char.isupper()):\n",
        "              b += chr((ord(char) + k-65) % 26 + 65)\n",
        "  \n",
        "          # Encrypt lowercase characters\n",
        "        else:\n",
        "              b += chr((ord(char) + k-97) % 26 + 97)\n",
        "      else:\n",
        "        b+=char\n",
        "    return b\n",
        "s=\"middle-Outz\"\n",
        "\n",
        "caesarCipher(s,k)        "
      ],
      "execution_count": null,
      "outputs": []
    },
    {
      "cell_type": "code",
      "metadata": {
        "id": "74lUImIq7FMi"
      },
      "source": [
        "def diagonalDifference(arr):\n",
        "    # Write your code here\n",
        "    r=0\n",
        "    l=0\n",
        "    k=len(arr)-1\n",
        "    m=0\n",
        "    for i in range(0,len(arr)):   \n",
        "        r+=arr[i][i]\n",
        "    while k>=0 and m<len(arr):\n",
        "            l+=arr[m][k]\n",
        "            print(l)\n",
        "            k-=1\n",
        "            m+=1\n",
        "    k=r-l\n",
        "    print(r)\n",
        "    print(l)\n",
        "    return abs(k)\n",
        "\n",
        "arr=[[11, 2, 4],\n",
        "    [4, 5, 6],\n",
        "    [10 ,8 ,-12]]\n",
        "result = diagonalDifference(arr)\n",
        "print(len(arr))"
      ],
      "execution_count": null,
      "outputs": []
    },
    {
      "cell_type": "code",
      "metadata": {
        "id": "YFozoIm9_xdh"
      },
      "source": [
        ""
      ],
      "execution_count": null,
      "outputs": []
    }
  ]
}